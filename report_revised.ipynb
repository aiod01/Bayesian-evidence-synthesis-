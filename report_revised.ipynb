{
 "cells": [
  {
   "cell_type": "markdown",
   "metadata": {},
   "source": [
    "# Basic Model: Ambulance + Overdose\n",
    "\n",
    "\n",
    "\n",
    "## Ambulance Call-outs Model\n",
    "\n",
    "$n_{A}$: sample size   \n",
    "$x_{A}$: the total number who confirmed they did call an ambulance  \n",
    "$p_{A}$: probability of a person call an ambulance   \n",
    "\n",
    "$$x_{A} \\sim Bin(n_{A},p_{A})$$\n",
    "\n",
    "**We assume $n_{A}=1000, p_A = 0.8$.**  \n",
    "**Suppose the prior of $p_A$ is noninformative.** \n",
    "$$p(p_A) \\sim Beta(1,1)$$\n",
    "\n",
    "## Overdose Model\n",
    "Now we plug in this values into the overdose model and obtain possible $O_t$ values **assuming we have $U_t$ values.**\n",
    "Also, we have priors.\n",
    "\n",
    "\n",
    "$$z_{t} \\sim N(\\mu, \\sigma^{2})$$  \n",
    "$$\\lambda_{t}^{OD} = \\exp(z_{t})$$  \n",
    "$$O_{t} \\sim Poi(\\lambda_{t}^{OD}N)$$  \n",
    "$$U_t \\sim Bin(O_t, p_A)$$  \n",
    "For simplicity we set N =10000 for now. We need to generate reasonable $U_t$ values first. Note that $U_t$ comes from $\\mu, \\sigma$ following all the way through the overdose model.  \n",
    "\n",
    "\n",
    "\n",
    "$\\mu=\\log0.05, \\sigma=1, N=10000$.   \n",
    "We suppose survey data exists: ($n_A, x_A$) known.  \n",
    "\n",
    "**We set for our prior parameters:** $$\\mu \\sim U(-10,0)$$  $$\\sigma \\sim U(0,5)$$"
   ]
  },
  {
   "cell_type": "code",
   "execution_count": 1,
   "metadata": {},
   "outputs": [],
   "source": [
    "import pandas as pd\n",
    "import numpy as np\n",
    "import matplotlib as mpl\n",
    "import matplotlib.pyplot as plt\n",
    "import pymc3 as pm\n",
    "import theano.tensor as tt\n",
    "import seaborn as sns"
   ]
  },
  {
   "cell_type": "markdown",
   "metadata": {},
   "source": [
    "Below is the function that generate data from simulation."
   ]
  },
  {
   "cell_type": "code",
   "execution_count": 2,
   "metadata": {},
   "outputs": [],
   "source": [
    "def sim_ambulance_overdoses(mu_z=np.log(0.05), sigma_z=1.,\n",
    "                            N=10000, p_a=0.8, n_a=1000, n_T=12):\n",
    "    '''\n",
    "    Simulate overdoses data, ambulance-call outs survey data and related variables \n",
    "    -----------\n",
    "    mu_z- float \n",
    "        log rate for lambda\n",
    "    \n",
    "    sigma_z -float\n",
    "        variance of log lambda\n",
    "    \n",
    "    N - int\n",
    "        Total size of population\n",
    "        \n",
    "    p_a - float\n",
    "        probability of calling ambulance at the scene of overdose\n",
    "    \n",
    "    n_a - int\n",
    "        total number of survey\n",
    "    \n",
    "    n_T - int\n",
    "        number of time points  \n",
    "    '''\n",
    "    # generate z_t values\n",
    "    zt = np.random.normal(loc=mu_z, scale = sigma_z, size = n_T)\n",
    "    \n",
    "    # convert into lambda_t\n",
    "    lmd_t = np.exp(zt)\n",
    "    \n",
    "    # generate O_t data set\n",
    "    o_t = np.random.poisson(lmd_t*N)\n",
    "    \n",
    "    # generate U_t data set\n",
    "    u_t = np.random.binomial(n=o_t, p=p_a)\n",
    "    \n",
    "    # generate x_t data set\n",
    "    x_a = np.random.binomial(n=n_a, p=p_a, size=12)\n",
    "    \n",
    "    return {'o_t':o_t, 'u_t':u_t, 'x_a':x_a, 'n_a':n_a,'N':N}"
   ]
  },
  {
   "cell_type": "code",
   "execution_count": 3,
   "metadata": {},
   "outputs": [],
   "source": [
    "data= sim_ambulance_overdoses()"
   ]
  },
  {
   "cell_type": "code",
   "execution_count": 4,
   "metadata": {
    "scrolled": true
   },
   "outputs": [
    {
     "data": {
      "text/plain": [
       "{'o_t': array([1188,  263,   27,  309, 2121,  156,  499,  155,  583,  458,   98,\n",
       "         414]),\n",
       " 'u_t': array([ 960,  209,   22,  241, 1663,  130,  402,  130,  467,  357,   76,\n",
       "         327]),\n",
       " 'x_a': array([810, 771, 779, 808, 788, 786, 803, 784, 797, 788, 802, 808]),\n",
       " 'n_a': 1000,\n",
       " 'N': 10000}"
      ]
     },
     "execution_count": 4,
     "metadata": {},
     "output_type": "execute_result"
    }
   ],
   "source": [
    "data"
   ]
  },
  {
   "cell_type": "code",
   "execution_count": 5,
   "metadata": {},
   "outputs": [],
   "source": [
    "def create_model(data):\n",
    "    N = data['N']\n",
    "    \n",
    "    with pm.Model() as model:\n",
    "        # priors \n",
    "        p_a = pm.Beta('p_a', alpha=1, beta=1)\n",
    "        # note that this prior is to be changed later\n",
    "        mu_z = pm.Uniform('mu_z', -10, 0)\n",
    "        sigma_z = pm.Uniform('sigma_z',0,5)\n",
    "        \n",
    "        # latent variables\n",
    "        z_t = pm.Normal('z_t', mu=mu_z, sigma=sigma_z, shape=(12,))\n",
    "        lmb_t = pm.Deterministic('lmb_t', tt.exp(z_t))\n",
    "#       o_t = pm.Poisson('o_t', lmb_t*N)\n",
    "        o_t = pm.Gamma('o_t', mu=lmb_t*N , sigma=tt.sqrt(lmb_t*N), shape=(12,) )\n",
    "        # MCMC with discrete random variable is hard to do sampling...\n",
    "        # We approximate this to Gamma dist\n",
    "        \n",
    "        \n",
    "        #likelihood \n",
    "        pm.Poisson('u_t', o_t*p_a, observed=data['u_t'])\n",
    "        pm.Binomial('x_a', n=data['n_a'], p =p_a, observed=data['x_a'])\n",
    "        \n",
    "    return model\n",
    "        "
   ]
  },
  {
   "cell_type": "markdown",
   "metadata": {},
   "source": [
    "Difference between my prior and Mike's prior exists."
   ]
  },
  {
   "cell_type": "code",
   "execution_count": 6,
   "metadata": {},
   "outputs": [],
   "source": [
    "model = create_model(data)"
   ]
  },
  {
   "cell_type": "code",
   "execution_count": 7,
   "metadata": {
    "scrolled": false
   },
   "outputs": [
    {
     "name": "stderr",
     "output_type": "stream",
     "text": [
      "Auto-assigning NUTS sampler...\n",
      "Initializing NUTS using jitter+adapt_diag...\n",
      "Multiprocess sampling (2 chains in 2 jobs)\n",
      "NUTS: [o_t, z_t, sigma_z, mu_z, p_a]\n",
      "Sampling 2 chains: 100%|██████████| 3000/3000 [00:11<00:00, 262.91draws/s]\n"
     ]
    }
   ],
   "source": [
    "with model:\n",
    "    trace = pm.sample(1000, chains=2)"
   ]
  },
  {
   "cell_type": "code",
   "execution_count": 10,
   "metadata": {},
   "outputs": [
    {
     "data": {
      "text/plain": [
       "(2000, 12)"
      ]
     },
     "execution_count": 10,
     "metadata": {},
     "output_type": "execute_result"
    }
   ],
   "source": [
    "trace['o_t'].shape"
   ]
  },
  {
   "cell_type": "markdown",
   "metadata": {},
   "source": [
    "## Boxplot of $O_t$\n",
    "$O_t$ is the variable of interest that we can never get data set. \n",
    "Boxplot of $O_t$ "
   ]
  },
  {
   "cell_type": "code",
   "execution_count": 43,
   "metadata": {
    "scrolled": true
   },
   "outputs": [
    {
     "data": {
      "image/png": "[encoded data removed]",
      "text/plain": [
       "<Figure size 1008x432 with 1 Axes>"
      ]
     },
     "metadata": {
      "needs_background": "light"
     },
     "output_type": "display_data"
    }
   ],
   "source": [
    "a4_dims = (14,6)\n",
    "fig, ax = plt.subplots(figsize=a4_dims)\n",
    "plt.title(\"O_t posterior samples and the true value\")\n",
    "ax=sns.boxplot(data=trace['o_t'])\n",
    "ax2 = plt.plot(range(12), data['o_t'],'ro')"
   ]
  },
  {
   "cell_type": "markdown",
   "metadata": {},
   "source": [
    "# Posterior Predictive Check\n",
    "PPC is for likelihood. \n",
    "## PPC: $U_t$  \n"
   ]
  },
  {
   "cell_type": "code",
   "execution_count": 21,
   "metadata": {},
   "outputs": [
    {
     "name": "stderr",
     "output_type": "stream",
     "text": [
      "100%|██████████| 1000/1000 [00:01<00:00, 779.65it/s]\n"
     ]
    }
   ],
   "source": [
    "ppc = pm.sample_posterior_predictive(trace, samples=1000, model=model)"
   ]
  },
  {
   "cell_type": "markdown",
   "metadata": {},
   "source": [
    "We would like to see if there is discrepency between original data set (likelihood) and the posterior predictive distribution."
   ]
  },
  {
   "cell_type": "code",
   "execution_count": 33,
   "metadata": {},
   "outputs": [
    {
     "data": {
      "image/png": "[encoded data removed]",
      "text/plain": [
       "<Figure size 842.4x595.44 with 1 Axes>"
      ]
     },
     "metadata": {
      "needs_background": "light"
     },
     "output_type": "display_data"
    }
   ],
   "source": [
    "a4_dims = (11.7, 8.27)\n",
    "fig, ax = plt.subplots(figsize=a4_dims)\n",
    "plt.title(\"PPC: U_t\")\n",
    "ax=sns.boxplot(data=ppc['u_t'])\n",
    "ax2 = plt.plot(range(12), data['u_t'],'ro')"
   ]
  },
  {
   "cell_type": "markdown",
   "metadata": {},
   "source": [
    "## PPC: $x_A$"
   ]
  },
  {
   "cell_type": "code",
   "execution_count": 65,
   "metadata": {},
   "outputs": [
    {
     "data": {
      "image/png": "[encoded data removed]",
      "text/plain": [
       "<Figure size 842.4x595.44 with 1 Axes>"
      ]
     },
     "metadata": {
      "needs_background": "light"
     },
     "output_type": "display_data"
    }
   ],
   "source": [
    "a4_dims = (11.7, 8.27)\n",
    "fig, ax = plt.subplots(figsize=a4_dims)\n",
    "# plt.title(\"PPC: X_a\")\n",
    "ax=sns.boxplot(data=ppc['x_a'])\n",
    "ax.set_title('PPC: X_a')\n",
    "ax2 = plt.plot(range(12), data['x_a'],'ro')"
   ]
  },
  {
   "cell_type": "markdown",
   "metadata": {},
   "source": [
    "The posterior predictive values are consistent with the expected value 800.\n",
    "We have the most variation between the PPC and the likelihood. "
   ]
  },
  {
   "cell_type": "markdown",
   "metadata": {},
   "source": [
    "# As A Function ($P_A$(biased), N)\n",
    "We want to see the effect of $P_A$: how much effect does $P_A$ has on our inference?  \n",
    "bias term on $p_A$:  \n",
    "Bias = $\\theta -\\hat{\\theta} = p_A- \\hat{p}_A$   \n",
    "$\\hat{p}_A = p_A + bias(p_A)$  \n",
    "\n",
    "$p_A$ still be set to 0.8 but $\\hat{p}_A$ will have some bias. \n",
    "\n",
    "$p_A$ is inferred from survey data ($n_A, x_A$). Since our estimation of the parameter is from there, we suppose that our survey data is contaminated. That is, our estimation of $p_A$ has a bias term and see how it affects the estimaton of $O_t$, our ultimate interest.\n",
    "\n",
    "Probably the common case is underestimate the $p_A$. This can happen since drug addicts or witnesses may not want to reveal that they called aubulance for some credential concern.  \n",
    "\n",
    "Hence, we build a function that can have bias argument so that the survey data (likelihood) may lead underestimated $p_A$ values."
   ]
  },
  {
   "cell_type": "code",
   "execution_count": 135,
   "metadata": {},
   "outputs": [],
   "source": [
    "def sim_ambulance_overdoses_bias(mu_z=np.log(0.05), sigma_z=1.,\n",
    "                            N=10000, p_a=0.8, bias = -0.2, n_a=1000, n_T=12):\n",
    "    '''\n",
    "    Simulate overdoses data, ambulance-call outs survey data and related variables considering \n",
    "    possible bias term for p_a\n",
    "    -----------\n",
    "    mu_z- float \n",
    "        log rate for lambda\n",
    "    \n",
    "    sigma_z -float\n",
    "        variance of log lambda\n",
    "    \n",
    "    N - int\n",
    "        Total size of population\n",
    "        \n",
    "    p_a - float\n",
    "        probability of calling ambulance at the scene of overdose\n",
    "        \n",
    "    bias - float\n",
    "        bias term affecting the survey data \n",
    "    \n",
    "    n_a - int\n",
    "        total number of survey\n",
    "    \n",
    "    n_T - int\n",
    "        number of time points  \n",
    "    '''\n",
    "    # generate z_t values\n",
    "    zt = np.random.normal(loc=mu_z, scale = sigma_z, size = n_T)\n",
    "    \n",
    "    # convert into lambda_t\n",
    "    lmd_t = np.exp(zt)\n",
    "    \n",
    "    # generate O_t data set\n",
    "    o_t = np.random.poisson(lmd_t*N)\n",
    "    \n",
    "    # generate U_t data set\n",
    "    u_t = np.random.binomial(n=o_t, p=p_a)\n",
    "    \n",
    "    # generate x_t data set\n",
    "    x_a = np.random.binomial(n=n_a, p=p_a+ bias, size=12)\n",
    "    \n",
    "    return {'o_t':o_t, 'u_t':u_t, 'x_a':x_a, 'n_a':n_a,'N':N, 'bias':bias}"
   ]
  },
  {
   "cell_type": "markdown",
   "metadata": {},
   "source": [
    "So let's make a function. "
   ]
  },
  {
   "cell_type": "code",
   "execution_count": 136,
   "metadata": {},
   "outputs": [],
   "source": [
    "def test_robust(mu_z=np.log(0.05), sigma_z=1.,\n",
    "                            N=10000, p_a=0.8, bias = -0.2, n_a=1000, n_T=12):\n",
    "    data = sim_ambulance_overdoses_bias(mu_z=mu_z, sigma_z=sigma_z,\n",
    "                            N=N, p_a=p_a, bias = bias, n_a=n_a, n_T=n_T)\n",
    "    model = create_model(data)\n",
    "    with model:\n",
    "        trace = pm.sample(1000, chains=2)\n",
    "    ppc = pm.sample_posterior_predictive(trace, samples=1000, model=model)\n",
    "    \n",
    "    return {'data':data, 'model':model, 'trace':trace, 'ppc':ppc}"
   ]
  },
  {
   "cell_type": "code",
   "execution_count": 127,
   "metadata": {
    "scrolled": true
   },
   "outputs": [
    {
     "name": "stderr",
     "output_type": "stream",
     "text": [
      "Auto-assigning NUTS sampler...\n",
      "Initializing NUTS using jitter+adapt_diag...\n",
      "Multiprocess sampling (2 chains in 2 jobs)\n",
      "NUTS: [o_t, z_t, sigma_z, mu_z, p_a]\n",
      "Sampling 2 chains: 100%|██████████| 3000/3000 [00:08<00:00, 361.38draws/s]\n",
      "100%|██████████| 1000/1000 [00:01<00:00, 814.13it/s]\n"
     ]
    }
   ],
   "source": [
    "my_list_unbiased = test_robust(bias = 0)"
   ]
  },
  {
   "cell_type": "code",
   "execution_count": 130,
   "metadata": {},
   "outputs": [
    {
     "name": "stderr",
     "output_type": "stream",
     "text": [
      "Auto-assigning NUTS sampler...\n",
      "Initializing NUTS using jitter+adapt_diag...\n",
      "Multiprocess sampling (2 chains in 2 jobs)\n",
      "NUTS: [o_t, z_t, sigma_z, mu_z, p_a]\n",
      "Sampling 2 chains: 100%|██████████| 3000/3000 [00:09<00:00, 321.16draws/s]\n",
      "100%|██████████| 1000/1000 [00:01<00:00, 799.56it/s]\n"
     ]
    }
   ],
   "source": [
    "my_list_under = test_robust()"
   ]
  },
  {
   "cell_type": "code",
   "execution_count": 138,
   "metadata": {},
   "outputs": [
    {
     "name": "stderr",
     "output_type": "stream",
     "text": [
      "Auto-assigning NUTS sampler...\n",
      "Initializing NUTS using jitter+adapt_diag...\n",
      "Multiprocess sampling (2 chains in 2 jobs)\n",
      "NUTS: [o_t, z_t, sigma_z, mu_z, p_a]\n",
      "Sampling 2 chains: 100%|██████████| 3000/3000 [00:11<00:00, 271.69draws/s]\n",
      "100%|██████████| 1000/1000 [00:01<00:00, 595.47it/s]\n"
     ]
    }
   ],
   "source": [
    "my_list_over = test_robust(bias = +0.1)"
   ]
  },
  {
   "cell_type": "markdown",
   "metadata": {},
   "source": [
    "I may need aother function to see the boxplots of ppc and posterior distrubiton on interest."
   ]
  },
  {
   "cell_type": "code",
   "execution_count": 142,
   "metadata": {},
   "outputs": [],
   "source": [
    "def visualization(mylist= my_list, post= False, u_t = False, x_a = False):\n",
    "    \n",
    "    if post is True: \n",
    "        # Boxplot for O_t, the variable of interest\n",
    "        a4_dims = (13,6)\n",
    "        fig, ax = plt.subplots(figsize=a4_dims)\n",
    "        ax=sns.boxplot(data=my_list['trace']['o_t'])\n",
    "        ax.set_title(\"O_t: posterior values\")\n",
    "        ax = plt.plot(range(12), mylist['data']['o_t'],'ro')\n",
    "    \n",
    "    \n",
    "    if u_t is True:\n",
    "        # boxplot of ppc : u_t\n",
    "        a4_dims = (11.7, 8.27)\n",
    "        fig, ax = plt.subplots(figsize=a4_dims)\n",
    "        ax.set_title(\"ppc : u_t\")\n",
    "        ax=sns.boxplot(data=mylist['ppc']['u_t'])\n",
    "        ax= plt.plot(range(12), mylist['data']['u_t'],'ro')\n",
    "    \n",
    "    if x_a is True: \n",
    "        # boxplot of ppc : x_a\n",
    "        a4_dims = (11.7, 8.27)\n",
    "        fig, ax = plt.subplots(figsize=a4_dims)\n",
    "        # plt.title(\"PPC: X_a\")\n",
    "        ax=sns.boxplot(data=my_list['ppc']['x_a'])\n",
    "        ax.set_title('PPC: X_a')\n",
    "        ax2 = plt.plot(range(12), my_list['data']['x_a'],'ro')"
   ]
  },
  {
   "cell_type": "markdown",
   "metadata": {},
   "source": [
    "Comparing $O_t$:  \n",
    "bias -2 vs unbiased vs bias +1"
   ]
  },
  {
   "cell_type": "code",
   "execution_count": 143,
   "metadata": {
    "scrolled": true
   },
   "outputs": [
    {
     "data": {
      "image/png": "[encoded data removed]",
      "text/plain": [
       "<Figure size 936x432 with 1 Axes>"
      ]
     },
     "metadata": {
      "needs_background": "light"
     },
     "output_type": "display_data"
    },
    {
     "data": {
      "image/png": "[encoded data removed]",
      "text/plain": [
       "<Figure size 936x432 with 1 Axes>"
      ]
     },
     "metadata": {
      "needs_background": "light"
     },
     "output_type": "display_data"
    },
    {
     "data": {
      "image/png": "[encoded data removed]",
      "text/plain": [
       "<Figure size 936x432 with 1 Axes>"
      ]
     },
     "metadata": {
      "needs_background": "light"
     },
     "output_type": "display_data"
    }
   ],
   "source": [
    "visualization(my_list_unbiased, post= True)\n",
    "visualization(my_list_under,post= True)\n",
    "visualization(my_list_over,post= True)"
   ]
  },
  {
   "cell_type": "markdown",
   "metadata": {},
   "source": [
    "**I need to set the seed for random likelihood...  \n",
    "ALSO maybe I should make another function to compare the three cases...**"
   ]
  },
  {
   "cell_type": "markdown",
   "metadata": {},
   "source": [
    "Comparing $U_t$  \n",
    "bias -2 vs unbiased vs bias +1"
   ]
  },
  {
   "cell_type": "code",
   "execution_count": null,
   "metadata": {},
   "outputs": [],
   "source": []
  },
  {
   "cell_type": "markdown",
   "metadata": {},
   "source": [
    "Comparing $x_A$  \n",
    "bias -2 vs unbiased vs bias +1"
   ]
  },
  {
   "cell_type": "code",
   "execution_count": null,
   "metadata": {},
   "outputs": [],
   "source": []
  },
  {
   "cell_type": "markdown",
   "metadata": {},
   "source": [
    "### Interactive plot?\n",
    "\n",
    "### Make a object rather than just a function ? "
   ]
  },
  {
   "cell_type": "code",
   "execution_count": null,
   "metadata": {},
   "outputs": [],
   "source": []
  }
 ],
 "metadata": {
  "kernelspec": {
   "display_name": "Python 3",
   "language": "python",
   "name": "python3"
  },
  "language_info": {
   "codemirror_mode": {
    "name": "ipython",
    "version": 3
   },
   "file_extension": ".py",
   "mimetype": "text/x-python",
   "name": "python",
   "nbconvert_exporter": "python",
   "pygments_lexer": "ipython3",
   "version": "3.7.4"
  }
 },
 "nbformat": 4,
 "nbformat_minor": 2
}
