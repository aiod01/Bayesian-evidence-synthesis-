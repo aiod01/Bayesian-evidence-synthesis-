{
 "cells": [
  {
   "cell_type": "markdown",
   "metadata": {},
   "source": [
    "## Model Introduction "
   ]
  },
  {
   "cell_type": "markdown",
   "metadata": {},
   "source": [
    "### Python Study"
   ]
  },
  {
   "cell_type": "code",
   "execution_count": 2,
   "metadata": {},
   "outputs": [
    {
     "name": "stdout",
     "output_type": "stream",
     "text": [
      "Collecting pymc3\n",
      "\u001b[?25l  Downloading https://files.pythonhosted.org/packages/42/c2/86e8be42b99d64932fa12611b502882a5f4d834b6d1d126bf3f956ad6428/pymc3-3.7-py3-none-any.whl (856kB)\n",
      "\u001b[K     |████████████████████████████████| 860kB 4.5MB/s eta 0:00:01\n",
      "\u001b[?25hRequirement already satisfied: numpy>=1.13.0 in /anaconda3/lib/python3.7/site-packages (from pymc3) (1.16.4)\n",
      "Requirement already satisfied: scipy>=0.18.1 in /anaconda3/lib/python3.7/site-packages (from pymc3) (1.3.0)\n",
      "Collecting theano>=1.0.4 (from pymc3)\n",
      "\u001b[?25l  Downloading https://files.pythonhosted.org/packages/7d/c4/6341148ad458b6cd8361b774d7ee6895c38eab88f05331f22304c484ed5d/Theano-1.0.4.tar.gz (2.8MB)\n",
      "\u001b[K     |████████████████████████████████| 2.8MB 7.6MB/s eta 0:00:01\n",
      "\u001b[?25hRequirement already satisfied: tqdm>=4.8.4 in /anaconda3/lib/python3.7/site-packages (from pymc3) (4.31.1)\n",
      "Requirement already satisfied: pandas>=0.18.0 in /anaconda3/lib/python3.7/site-packages (from pymc3) (0.24.2)\n",
      "Collecting h5py>=2.7.0 (from pymc3)\n",
      "\u001b[?25l  Downloading https://files.pythonhosted.org/packages/80/c5/eec74d7324628f1b640c6e706981c4ed51afcaa1656ece26cb08d862598e/h5py-2.9.0-cp37-cp37m-macosx_10_6_intel.macosx_10_9_intel.macosx_10_9_x86_64.macosx_10_10_intel.macosx_10_10_x86_64.whl (6.2MB)\n",
      "\u001b[K     |████████████████████████████████| 6.2MB 3.6MB/s eta 0:00:01\n",
      "\u001b[?25hCollecting patsy>=0.4.0 (from pymc3)\n",
      "  Using cached https://files.pythonhosted.org/packages/ea/0c/5f61f1a3d4385d6bf83b83ea495068857ff8dfb89e74824c6e9eb63286d8/patsy-0.5.1-py2.py3-none-any.whl\n",
      "Requirement already satisfied: six>=1.9.0 in /anaconda3/lib/python3.7/site-packages (from theano>=1.0.4->pymc3) (1.12.0)\n",
      "Requirement already satisfied: pytz>=2011k in /anaconda3/lib/python3.7/site-packages (from pandas>=0.18.0->pymc3) (2019.1)\n",
      "Requirement already satisfied: python-dateutil>=2.5.0 in /anaconda3/lib/python3.7/site-packages (from pandas>=0.18.0->pymc3) (2.8.0)\n",
      "Building wheels for collected packages: theano\n",
      "  Building wheel for theano (setup.py) ... \u001b[?25ldone\n",
      "\u001b[?25h  Stored in directory: /Users/hyeongcheolpark/Library/Caches/pip/wheels/88/fb/be/483910ff7e9f703f30a10605ad7605f3316493875c86637014\n",
      "Successfully built theano\n",
      "Installing collected packages: theano, h5py, patsy, pymc3\n",
      "Successfully installed h5py-2.9.0 patsy-0.5.1 pymc3-3.7 theano-1.0.4\n",
      "Note: you may need to restart the kernel to use updated packages.\n"
     ]
    }
   ],
   "source": [
    "# pip install pymc3;"
   ]
  },
  {
   "cell_type": "code",
   "execution_count": 3,
   "metadata": {
    "scrolled": true
   },
   "outputs": [
    {
     "name": "stdout",
     "output_type": "stream",
     "text": [
      "Collecting seaborn\n",
      "\u001b[?25l  Downloading https://files.pythonhosted.org/packages/a8/76/220ba4420459d9c4c9c9587c6ce607bf56c25b3d3d2de62056efe482dadc/seaborn-0.9.0-py3-none-any.whl (208kB)\n",
      "\u001b[K     |████████████████████████████████| 215kB 1.3MB/s eta 0:00:01\n",
      "\u001b[?25hRequirement already satisfied: scipy>=0.14.0 in /anaconda3/lib/python3.7/site-packages (from seaborn) (1.3.0)\n",
      "Requirement already satisfied: pandas>=0.15.2 in /anaconda3/lib/python3.7/site-packages (from seaborn) (0.24.2)\n",
      "Requirement already satisfied: matplotlib>=1.4.3 in /anaconda3/lib/python3.7/site-packages (from seaborn) (3.1.0)\n",
      "Requirement already satisfied: numpy>=1.9.3 in /anaconda3/lib/python3.7/site-packages (from seaborn) (1.16.4)\n",
      "Requirement already satisfied: python-dateutil>=2.5.0 in /anaconda3/lib/python3.7/site-packages (from pandas>=0.15.2->seaborn) (2.8.0)\n",
      "Requirement already satisfied: pytz>=2011k in /anaconda3/lib/python3.7/site-packages (from pandas>=0.15.2->seaborn) (2019.1)\n",
      "Requirement already satisfied: cycler>=0.10 in /anaconda3/lib/python3.7/site-packages (from matplotlib>=1.4.3->seaborn) (0.10.0)\n",
      "Requirement already satisfied: kiwisolver>=1.0.1 in /anaconda3/lib/python3.7/site-packages (from matplotlib>=1.4.3->seaborn) (1.1.0)\n",
      "Requirement already satisfied: pyparsing!=2.0.4,!=2.1.2,!=2.1.6,>=2.0.1 in /anaconda3/lib/python3.7/site-packages (from matplotlib>=1.4.3->seaborn) (2.4.0)\n",
      "Requirement already satisfied: six>=1.5 in /anaconda3/lib/python3.7/site-packages (from python-dateutil>=2.5.0->pandas>=0.15.2->seaborn) (1.12.0)\n",
      "Requirement already satisfied: setuptools in /anaconda3/lib/python3.7/site-packages (from kiwisolver>=1.0.1->matplotlib>=1.4.3->seaborn) (41.0.1)\n",
      "Installing collected packages: seaborn\n",
      "Successfully installed seaborn-0.9.0\n",
      "Note: you may need to restart the kernel to use updated packages.\n"
     ]
    }
   ],
   "source": [
    "# pip install seaborn"
   ]
  },
  {
   "cell_type": "code",
   "execution_count": 4,
   "metadata": {},
   "outputs": [
    {
     "name": "stdout",
     "output_type": "stream",
     "text": [
      "Populating the interactive namespace from numpy and matplotlib\n"
     ]
    }
   ],
   "source": [
    "%pylab inline \n",
    "# magic fucntion in ipython. It loads major numerical and plotting libraries\n",
    "\n",
    "import pandas as pd\n",
    "\n",
    "import pymc3 as pm\n",
    "# probabilistic programming language\n",
    "\n",
    "# import class for constructing random walks\n",
    "from pymc3.distributions.timeseries import GaussianRandomWalk\n",
    "import theano.tensor as tt\n",
    "\n",
    "#import some special methods\n",
    "from scipy.special import logit,expit\n",
    "import scipy.stats as stats\n",
    "\n",
    "# set some plotting parameters to create ggplot-style plots\n",
    "import seaborn as sns\n",
    "import matplotlib as mpl\n",
    "sns.set_context(context='talk',font_scale=1.5)\n",
    "plt.style.use('ggplot')\n",
    "mpl.rcParams['axes.labelsize'] = 24\n",
    "\n",
    "#interactive plotting tools\n",
    "from ipywidgets import interactive"
   ]
  },
  {
   "cell_type": "code",
   "execution_count": 49,
   "metadata": {},
   "outputs": [],
   "source": [
    "N, p = 10000, 0.01\n",
    "x = np.random.binomial(N,p,size=1000)"
   ]
  },
  {
   "cell_type": "code",
   "execution_count": 50,
   "metadata": {},
   "outputs": [
    {
     "data": {
      "image/png": "[encoded data removed]",
      "text/plain": [
       "<Figure size 432x288 with 1 Axes>"
      ]
     },
     "metadata": {},
     "output_type": "display_data"
    }
   ],
   "source": [
    "plt.figure(); # ; on plt suppress output\n",
    "plt.hist(x, bins=30);\n",
    "plt.xlabel(\"Number of overdoses\");\n",
    "plt.ylabel(\"count\");"
   ]
  },
  {
   "cell_type": "markdown",
   "metadata": {},
   "source": [
    "**Important: Shift + tap shows me info about method.**"
   ]
  },
  {
   "cell_type": "code",
   "execution_count": 54,
   "metadata": {},
   "outputs": [
    {
     "name": "stdout",
     "output_type": "stream",
     "text": [
      "Data generated is a 1000 by 12 array\n"
     ]
    }
   ],
   "source": [
    "n_months =12\n",
    "n_samples = 1000\n",
    "N,p = 10000,0.01\n",
    "x = np.random.binomial(N,p, size = (n_samples,n_months))\n",
    "\n",
    "print('Data generated is a {} by {} array'.format(*x.shape))"
   ]
  },
  {
   "cell_type": "code",
   "execution_count": 59,
   "metadata": {},
   "outputs": [],
   "source": [
    "def plot_data_timeseries(ys, x=None, xlabel=\"time\", ylabel=\"Overdoses\", new_plot=True, color=\"#E14A33\", label=None):\n",
    "    \n",
    "    '''\n",
    "    brief intro: plot 95 and IQR\n",
    "    parameters:\n",
    "    -----\n",
    "    ys: sample size by time numpy array \n",
    "    x: x axis as time\n",
    "    xlabel: string\n",
    "    ylabel: string\n",
    "    new_plot: boolean\n",
    "        plotting to a new figure or not\n",
    "    color: str\n",
    "    label: str\n",
    "    return\n",
    "    -----\n",
    "    \n",
    "    \n",
    "    '''\n",
    "    if x is None:\n",
    "        x = np.arange(1,ys.shape[1]+1)\n",
    "    \n",
    "    if new_plot: plt.figure;\n",
    "        # if we wanna make a new plot, then by using plt.figure function,\n",
    "        # we create a new plot figure\n",
    "        \n",
    "    lc, liqr, m, uiqr, uc = np.percentile(ys, [2.5,25,50,75,97.5], axis=0);\n",
    "    # now it's time to use the (already) existing plot figure\n",
    "    plt.fill_between(x, lc, uc,alpha=0.2 ,color=color);\n",
    "    plt.fill_between(x, liqr, uiqr, color=color, alpha=0.2);\n",
    "    plt.plot(x,m, color= color, label = label);\n",
    "    plt.xlabel(xlabel);plt.ylabel(ylabel);\n",
    "    \n",
    "    "
   ]
  },
  {
   "cell_type": "code",
   "execution_count": 61,
   "metadata": {},
   "outputs": [
    {
     "data": {
      "image/png": "[encoded data removed]",
      "text/plain": [
       "<Figure size 432x288 with 1 Axes>"
      ]
     },
     "metadata": {},
     "output_type": "display_data"
    }
   ],
   "source": [
    "plot_data_timeseries(x)"
   ]
  },
  {
   "cell_type": "markdown",
   "metadata": {},
   "source": [
    "Broadcasting rule is how numpy treat different arrays in dimensions."
   ]
  },
  {
   "cell_type": "code",
   "execution_count": 65,
   "metadata": {
    "scrolled": true
   },
   "outputs": [
    {
     "data": {
      "text/plain": [
       "array([1, 2, 3, 1, 2, 3])"
      ]
     },
     "execution_count": 65,
     "metadata": {},
     "output_type": "execute_result"
    }
   ],
   "source": [
    "# Note: array is a function to yield a ndarray conviniently, and .flatten() is a method to\n",
    "# flat the dimension.\n",
    "\n",
    "np.array([[1,2,3],[1,2,3]]).flatten()"
   ]
  },
  {
   "cell_type": "code",
   "execution_count": 79,
   "metadata": {},
   "outputs": [
    {
     "name": "stdout",
     "output_type": "stream",
     "text": [
      "[[1. 1. 1. 1. 1.]\n",
      " [2. 2. 2. 2. 2.]\n",
      " [3. 3. 3. 3. 3.]\n",
      " [4. 4. 4. 4. 4.]]\n",
      "[[1. 2. 3. 4.]\n",
      " [1. 2. 3. 4.]\n",
      " [1. 2. 3. 4.]]\n",
      "[[ 6  7  8]\n",
      " [ 7  8  9]\n",
      " [ 8  9 10]\n",
      " [ 9 10 11]]\n"
     ]
    }
   ],
   "source": [
    "# Note: broadcasting rule examples\n",
    "x = np.arange(4)\n",
    "# print(x)\n",
    "xx=x.reshape(4,1)\n",
    "# print(xx)\n",
    "y = np.ones(5)\n",
    "# print(y)\n",
    "z = np.ones((3,4))\n",
    "# print(z)\n",
    "\n",
    "# print(xx+y)\n",
    "print(x[:,np.newaxis]+y)\n",
    "print(x+z)\n",
    "\n",
    "# outer product\n",
    "a = np.array([5,6,7,8])\n",
    "b = np.array([1,2,3])\n",
    "\n",
    "# 4 X 1\n",
    "#     3\n",
    "# 4 X 3\n",
    "\n",
    "print(a[:, np.newaxis] + b) # This is outer product, where the summatiion\n",
    "# occurs elementwise from two vectors."
   ]
  },
  {
   "cell_type": "code",
   "execution_count": null,
   "metadata": {},
   "outputs": [],
   "source": [
    "# Let's make a overdose_generation function.\n",
    "\n",
    "# instruction: numpy docstring guide.\n",
    "\n",
    "def overdose_generation():\n",
    "    '''\n",
    "    give uncertainty to parameters of the number of overdoses\n",
    "    \n",
    "    parameter\n",
    "    -----\n",
    "    \n",
    "    return\n",
    "    ----\n",
    "    \n",
    "    \n",
    "    '''\n",
    "    \n",
    "    # N follows normal(10000,1000)\n",
    "    \n",
    "    # p follows beta (1, 99)\n",
    "    \n",
    "    # apply N and p to Bin(N,p). \n",
    "    \n",
    "    # For each Bin(N,p), repeat 1000 times for one column (month)\n",
    "    \n",
    "    # (1000,12) ndarray is our result.\n",
    "    \n",
    "    # Dict: N, p, x for keys, flatten N, p, values.\n",
    "    "
   ]
  }
 ],
 "metadata": {
  "kernelspec": {
   "display_name": "Python 3",
   "language": "python",
   "name": "python3"
  },
  "language_info": {
   "codemirror_mode": {
    "name": "ipython",
    "version": 3
   },
   "file_extension": ".py",
   "mimetype": "text/x-python",
   "name": "python",
   "nbconvert_exporter": "python",
   "pygments_lexer": "ipython3",
   "version": "3.7.3"
  }
 },
 "nbformat": 4,
 "nbformat_minor": 2
}
