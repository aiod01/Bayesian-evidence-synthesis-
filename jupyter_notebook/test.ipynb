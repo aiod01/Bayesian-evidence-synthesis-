{
 "cells": [
  {
   "cell_type": "code",
   "execution_count": 1,
   "metadata": {},
   "outputs": [],
   "source": [
    "import dill\n",
    "import pandas as pd\n",
    "import numpy as np\n",
    "import matplotlib as mpl\n",
    "import matplotlib.pyplot as plt\n",
    "import pymc3 as pm\n",
    "import theano.tensor as tt\n",
    "import seaborn as sns"
   ]
  },
  {
   "cell_type": "code",
   "execution_count": 2,
   "metadata": {},
   "outputs": [],
   "source": [
    "def sim_ambulance_overdoses(random=1, mu_z=np.log(0.05), sigma_z=1.,\n",
    "                            N=10000, p_a=0.8, n_a=1000, n_T=12):\n",
    "    '''\n",
    "    Simulate overdoses data, ambulance-call outs survey data and related variables \n",
    "    -----------\n",
    "    mu_z- float \n",
    "        log rate for lambda\n",
    "    \n",
    "    sigma_z -float\n",
    "        variance of log lambda\n",
    "    \n",
    "    N - int\n",
    "        Total size of population\n",
    "        \n",
    "    p_a - float\n",
    "        probability of calling ambulance at the scene of overdose\n",
    "    \n",
    "    n_a - int\n",
    "        total number of survey\n",
    "    \n",
    "    n_T - int\n",
    "        number of time points  \n",
    "    '''\n",
    "    #set.seed(1)\n",
    "    np.random.seed(random)\n",
    "    \n",
    "    # generate z_t values\n",
    "    zt = np.random.normal(loc=mu_z, scale = sigma_z, size = n_T)\n",
    "    \n",
    "    # convert into lambda_t\n",
    "    lmd_t = np.exp(zt)\n",
    "    \n",
    "    # generate O_t data set\n",
    "    o_t = np.random.poisson(lmd_t*N)\n",
    "    \n",
    "    # generate U_t data set\n",
    "    u_t = np.random.binomial(n=o_t, p=p_a)\n",
    "    \n",
    "    # generate x_t data set\n",
    "    x_a = np.random.binomial(n=n_a, p=p_a, size =12)\n",
    "    \n",
    "    return {'o_t':o_t, 'u_t':u_t, 'x_a':x_a, 'n_a':n_a,'N':N}"
   ]
  },
  {
   "cell_type": "code",
   "execution_count": 3,
   "metadata": {},
   "outputs": [],
   "source": [
    "data= sim_ambulance_overdoses()"
   ]
  },
  {
   "cell_type": "code",
   "execution_count": 4,
   "metadata": {},
   "outputs": [],
   "source": [
    "def create_model_N(data):\n",
    "    \n",
    "    \n",
    "    with pm.Model() as model:\n",
    "        # priors \n",
    "        p_a = pm.Beta('p_a', alpha=1, beta=1)\n",
    "        # note that this prior is to be changed later\n",
    "        mu_z = pm.Uniform('mu_z', -10, 0)\n",
    "        sigma_z = pm.Uniform('sigma_z',0,5)\n",
    "        \n",
    "        # uncertain N\n",
    "        N = pm.DiscreteUniform('N',lower=1,upper=2*10000)\n",
    "        \n",
    "        # latent variables\n",
    "        z_t = pm.Normal('z_t', mu=mu_z, sigma=sigma_z, shape=(12,))\n",
    "        lmb_t = pm.Deterministic('lmb_t', tt.exp(z_t))\n",
    "#       o_t = pm.Poisson('o_t', lmb_t*N)\n",
    "        o_t = pm.Gamma('o_t', mu=lmb_t*N , sigma=tt.sqrt(lmb_t*N), shape=(12,) )\n",
    "        # MCMC with discrete random variable is hard to do sampling...\n",
    "        # We approximate this to Gamma dist\n",
    "        \n",
    "        \n",
    "        #likelihood \n",
    "        pm.Poisson('u_t', o_t*p_a, observed=data['u_t'])\n",
    "        pm.Binomial('x_a', n=data['n_a'], p =p_a, observed=data['x_a'])\n",
    "        \n",
    "    return model\n",
    "\n",
    "        "
   ]
  },
  {
   "cell_type": "code",
   "execution_count": 5,
   "metadata": {},
   "outputs": [],
   "source": [
    "model_N = create_model_N(data)"
   ]
  },
  {
   "cell_type": "code",
   "execution_count": 6,
   "metadata": {
    "scrolled": true
   },
   "outputs": [
    {
     "name": "stderr",
     "output_type": "stream",
     "text": [
      "Multiprocess sampling (2 chains in 2 jobs)\n",
      "CompoundStep\n",
      ">NUTS: [o_t, z_t, sigma_z, mu_z, p_a]\n",
      ">Metropolis: [N]\n",
      "Sampling 2 chains: 100%|██████████| 3000/3000 [00:16<00:00, 181.51draws/s]\n",
      "The gelman-rubin statistic is larger than 1.4 for some parameters. The sampler did not converge.\n",
      "The estimated number of effective samples is smaller than 200 for some parameters.\n"
     ]
    }
   ],
   "source": [
    "with model_N:\n",
    "    trace_N = pm.sample(1000, chains=2, random_seed=1)"
   ]
  },
  {
   "cell_type": "code",
   "execution_count": 9,
   "metadata": {},
   "outputs": [
    {
     "name": "stderr",
     "output_type": "stream",
     "text": [
      "Multiprocess sampling (2 chains in 2 jobs)\n",
      "CompoundStep\n",
      ">NUTS: [o_t, z_t, sigma_z, mu_z, p_a]\n",
      ">Metropolis: [N]\n",
      "Sampling 2 chains: 100%|██████████| 3000/3000 [00:14<00:00, 206.07draws/s]\n",
      "The gelman-rubin statistic is larger than 1.4 for some parameters. The sampler did not converge.\n",
      "The estimated number of effective samples is smaller than 200 for some parameters.\n"
     ]
    }
   ],
   "source": [
    "with model_N:\n",
    "    trace = pm.sample(1000, chains=2, random_seed=1)"
   ]
  },
  {
   "cell_type": "code",
   "execution_count": 10,
   "metadata": {},
   "outputs": [
    {
     "data": {
      "image/png": "[encoded data removed]",
      "text/plain": [
       "<Figure size 1152x504 with 1 Axes>"
      ]
     },
     "metadata": {
      "needs_background": "light"
     },
     "output_type": "display_data"
    }
   ],
   "source": [
    "a4_dims = (16,7)\n",
    "fig, ax = plt.subplots(figsize=a4_dims)\n",
    "df = pd.DataFrame(data=trace['o_t'], columns=range(1,13))\n",
    "ax=sns.boxplot(data=df)\n",
    "plt.title(\"posterior samples of $O_t$\")\n",
    "ax.set_xlabel('months')\n",
    "ax.set_ylabel('$O_t$')\n",
    "ax2 = plt.plot(range(0,12), data['o_t'],'ro')\n",
    "fig.savefig('../latex/Figures/earlyresult1_ot.png')"
   ]
  },
  {
   "cell_type": "code",
   "execution_count": 11,
   "metadata": {},
   "outputs": [
    {
     "data": {
      "text/plain": [
       "array([12020, 11990, 11990, ...,  8731,  8768,  8834])"
      ]
     },
     "execution_count": 11,
     "metadata": {},
     "output_type": "execute_result"
    }
   ],
   "source": [
    "trace['N']"
   ]
  },
  {
   "cell_type": "code",
   "execution_count": null,
   "metadata": {},
   "outputs": [],
   "source": []
  }
 ],
 "metadata": {
  "kernelspec": {
   "display_name": "Python [conda env:root] *",
   "language": "python",
   "name": "conda-root-py"
  },
  "language_info": {
   "codemirror_mode": {
    "name": "ipython",
    "version": 3
   },
   "file_extension": ".py",
   "mimetype": "text/x-python",
   "name": "python",
   "nbconvert_exporter": "python",
   "pygments_lexer": "ipython3",
   "version": "3.7.4"
  }
 },
 "nbformat": 4,
 "nbformat_minor": 2
}
