{
 "cells": [
  {
   "cell_type": "markdown",
   "metadata": {},
   "source": [
    "# Supervisor Meeting\n",
    "\n",
    "## 11/6\n",
    "\n",
    "1. Hierarchical model is in between complete pooling and no pooling. \n",
    "The assumption we have is **conditionaly** independent. \n",
    "Without conditionality it is **dependent** and that gives us the justification of borrowing some more information from other observations. \n",
    "But actually we don't know the values that we conditioned on (hyper parameters such as alpha and beta). If we knew then we could have treat them as iid situation. Then we cannot borrow informations from the other observations. \n",
    "\n",
    "\n",
    "2. Imputation in Bayesian system is like treating the missing values as samples from predictive posterior distribution.\n",
    "\n",
    "$$p(\\theta, \\tilde{y}|y)$$\n",
    "\n",
    "From the vertical bar |, what we know goes to right as given, and *the yet unknown variables* go to left. Missing values can be treated as some targets on the left hand side.\n",
    "\n",
    "The spirit of multiple imputation is estimating unknown values from the relationship we could obtain from our data set, taking the uncertainty of randomness into account by imputing the values multiple times. The idea is more alike to the one of Bayesian frame. That is, from the given data set we obtain our posterior belief, then we get samples from there (posterior) and guess the missing variable of interest with uncertainty included credible interval."
   ]
  },
  {
   "cell_type": "markdown",
   "metadata": {},
   "source": [
    "# 12/4\n",
    "1. N is latent variable. We do not have a fixed N, rather we have a rough guess for N. Therefore we need prior and estimation for N.\n",
    "\n",
    "\n",
    "2. Comparison: Not known N vs known N. What can we infer from not enough information? Is it going to be good enough to guess? We loose and loose our information and see how much we can still get (for decision making or something).\n"
   ]
  },
  {
   "cell_type": "markdown",
   "metadata": {},
   "source": [
    "# 12/12\n",
    "\n",
    "further going plan \n",
    "\n",
    "ppc for likelihood \n",
    "ppc for x_A, U_t\n",
    "boxplot for O_t, \n",
    "see what is going on \n",
    "\n",
    "Hamiltonian continuous , stan as well. So Jag and reproducability\n",
    "\n",
    "Hierarchical model , pooled, independent individual models\n",
    "(Wham am I having right now ?)\n",
    "\n",
    "how much data set influence ?\n",
    "how important survey data can be ?\n",
    "\n",
    "bias term on p_A\n",
    "\n",
    "N: several difference population type \n",
    "\n",
    "potential biase \n",
    "\n",
    "stratification of N influence ??\n",
    "\n",
    "table N \n",
    "\n",
    "O1:t posterior \n",
    "\n",
    "numpy docstring \n",
    "\n",
    "start writing paper right now \n",
    "\n",
    "\n",
    "\n",
    "1. Function (p_a (biased), N) \n",
    "how reliable the estimates can be good inference "
   ]
  },
  {
   "cell_type": "markdown",
   "metadata": {},
   "source": [
    "# 3/11\n",
    "\n",
    "1. see converge and then get the samples\n",
    "\n",
    "2. +_20 % and adds some peak (do not give too much power to N)\n",
    "\n",
    "3. prior is a info before you see a data \n",
    "\n",
    "4. 0000...00...111....111 for dcat\n",
    "\n",
    "5. diagnostics \n",
    "- convergence issue \n",
    "- MC standard deciation\n",
    "- Naive \n",
    "- Time series\n",
    "- R hat, inaffective JAGS output: convergence, mixing\n",
    "- mixing: magnify-> average, more error, longer term for one cycle\n"
   ]
  },
  {
   "cell_type": "markdown",
   "metadata": {},
   "source": [
    "+ -"
   ]
  },
  {
   "cell_type": "code",
   "execution_count": null,
   "metadata": {},
   "outputs": [],
   "source": []
  }
 ],
 "metadata": {
  "kernelspec": {
   "display_name": "Python 3",
   "language": "python",
   "name": "python3"
  },
  "language_info": {
   "codemirror_mode": {
    "name": "ipython",
    "version": 3
   },
   "file_extension": ".py",
   "mimetype": "text/x-python",
   "name": "python",
   "nbconvert_exporter": "python",
   "pygments_lexer": "ipython3",
   "version": "3.7.4"
  }
 },
 "nbformat": 4,
 "nbformat_minor": 2
}
