{
 "cells": [
  {
   "cell_type": "markdown",
   "metadata": {},
   "source": [
    "# 1. Why am I getting this error:  \n",
    "\n",
    "## Not enough samples to build a trace.  \n",
    "\n",
    "This is a part from Mike's *overdose-model-intro* jupyter notebook.  \n",
    "The problem is that sometimes I cannot reproduce the \n",
    " **Adapting the model to death data** chapter from his notebook.  \n",
    " Specifically, it works on this notebook (Questions), but It does not work on my another notebook file which is  [reproducing the notebook from scratch](https://github.com/aiod01/Bayesian-evidence-synthesis-/blob/master/reproducing%20the%20repository%20from%20scratch.ipynb)\n",
    "\n",
    "Versions:  \n",
    "pymc3:  3.7  \n",
    "Python: 3.7.4\n"
   ]
  },
  {
   "cell_type": "code",
   "execution_count": 1,
   "metadata": {},
   "outputs": [
    {
     "name": "stdout",
     "output_type": "stream",
     "text": [
      "Populating the interactive namespace from numpy and matplotlib\n"
     ]
    }
   ],
   "source": [
    "# installing packages\n",
    "\n",
    "%pylab inline \n",
    "# magic fucntion in ipython. It loads major numerical and plotting libraries\n",
    "\n",
    "import pandas as pd\n",
    "import pymc3 as pm\n",
    "# probabilistic programming language\n",
    "\n",
    "# import class for constructing random walks\n",
    "from pymc3.distributions.timeseries import GaussianRandomWalk\n",
    "import theano.tensor as tt\n",
    "\n",
    "#import some special methods\n",
    "from scipy.special import logit,expit\n",
    "import scipy.stats as stats\n",
    "\n",
    "# set some plotting parameters to create ggplot-style plots\n",
    "import seaborn as sns\n",
    "import matplotlib as mpl\n",
    "sns.set_context(context='talk',font_scale=1.5)\n",
    "plt.style.use('ggplot')\n",
    "mpl.rcParams['axes.labelsize'] = 24\n",
    "\n",
    "#interactive plotting tools\n",
    "from ipywidgets import interactive\n",
    "matplotlib.rcParams['figure.figsize'] = [15,8]\n"
   ]
  },
  {
   "cell_type": "code",
   "execution_count": 2,
   "metadata": {},
   "outputs": [
    {
     "name": "stdout",
     "output_type": "stream",
     "text": [
      "3.7\n",
      "3.7.4\n"
     ]
    }
   ],
   "source": [
    "# version checks \n",
    "print(pm.__version__)\n",
    "from platform import python_version\n",
    "print(python_version())"
   ]
  },
  {
   "cell_type": "markdown",
   "metadata": {},
   "source": [
    "Then I define two functions,   \n",
    "one for creating the model, the other for generating trace (samples?)   \n",
    "and ppc (posterior predictive checks).  \n",
    "\n",
    "I changed some parts to adjust the changes of pymc3 updates."
   ]
  },
  {
   "cell_type": "code",
   "execution_count": 3,
   "metadata": {},
   "outputs": [],
   "source": [
    "# this is from Mike's notebook adjusting the difference between pymc3 3.0 and 3.7\n",
    "def create_timeseries_death_model(N_mean = 10000, N_sd = 1000, \n",
    "                            p0 = 0.01,\n",
    "                            mu_w=0.0, sigma_w = 0.1,\n",
    "                            mu_pd = 0.1, sigma_pd = 0.05,\n",
    "                            overdoses = None,deaths = None):\n",
    "    \"\"\"\n",
    "    Create pymc3 time-series overdose model\n",
    "    \n",
    "    Parameters\n",
    "    ----------\n",
    "    N_mean : float\n",
    "        mean of population size\n",
    "    N_sd : float\n",
    "        standard deviation of population size\n",
    "    p0 : float\n",
    "        initial prevalence of overdoses\n",
    "    mu_w : float\n",
    "        drift for overdose random walk\n",
    "    sd_w : float\n",
    "        variance for overdose random walk\n",
    "    mu_pd : float\n",
    "        mean probability of death following an overdose\n",
    "    sigma_pd : float\n",
    "        sd probability of death following an overdose\n",
    "    overdoses : numpy array\n",
    "        overdose data\n",
    "    deaths : numpy array\n",
    "        death data\n",
    "    \n",
    "    Returns\n",
    "    -------\n",
    "    \n",
    "    Pymc3 model\n",
    "    \n",
    "    \"\"\"\n",
    "    \n",
    "    # instantiate model\n",
    "    model = pm.Model()\n",
    "\n",
    "    # create elements of the model\n",
    "    with model:\n",
    "        # define population size random variable. PyMC3 needs a label for the RV as the first value.\n",
    "        N = pm.Normal('N',mu=N_mean, sd=N_sd)\n",
    "\n",
    "        # define random walk process\n",
    "        w = GaussianRandomWalk('w',mu=mu_w, sd=sigma_w, shape=n_months, \n",
    "                               init=pm.Normal.dist(mu=logit(p0), sd=0.1))\n",
    "        \n",
    "        # convert random walk into probability\n",
    "        p = pm.Deterministic('p',pm.math.invlogit(w))\n",
    "        \n",
    "        # probability of death following an overdose\n",
    "        pd = pm.Beta('p_d',mu=mu_pd,sd=sigma_pd)\n",
    "        \n",
    "\n",
    "        # generate data (we assume we haven't observed any data so far to draw from the prior)\n",
    "        if overdoses is not None:\n",
    "            x = pm.Poisson('overdoses',mu=N*p,shape=(n_months,), observed=overdoses)\n",
    "            \n",
    "        if deaths is not None:\n",
    "            x = pm.Poisson('deaths',mu=N*p*pd,shape=(n_months,), observed=deaths)\n",
    "    \n",
    "    return model\n",
    "\n",
    "def generate_ppc_from_model(model):\n",
    "    '''\n",
    "    Generate trace and ppc from a pymc3 model using variational Bayes.\n",
    "    \n",
    "    Parameters\n",
    "    ----------\n",
    "    \n",
    "    model : pymc3 model\n",
    "    \n",
    "    Return\n",
    "    ------\n",
    "    \n",
    "    dict\n",
    "        dictionary containing the trace and ppc\n",
    "    '''\n",
    "    # generate trace of posterior\n",
    "    \n",
    "### this is original codes\n",
    "#     print('Running variational fiiting...')\n",
    "#     with model:\n",
    "#         v_params = pm.variational.advi(n=100000)\n",
    "\n",
    "#     print('Generating trace...')\n",
    "#     with model:\n",
    "#         trace = pm.variational.sample_vp(v_params, draws=1000)\n",
    "###\n",
    "\n",
    "    # new codes\n",
    "    print('Running variational fitting and generating trace...')\n",
    "    with model:\n",
    "        trace = pm.sample(1000, init='advi', n_init=100000)\n",
    "\n",
    "    print('Generate ppc...')\n",
    "    # calculate ppc\n",
    "    with model:\n",
    "### this is original codes\n",
    "#         ppc = pm.sample_ppc(trace)\n",
    "###\n",
    "        #new codes\n",
    "        ppc = pm.sample_posterior_predictive(trace)\n",
    "    return {'trace':trace,'ppc':ppc}"
   ]
  },
  {
   "cell_type": "markdown",
   "metadata": {},
   "source": [
    "I referred this to change the codes to work in pymc3 3.7.   \n",
    "https://github.com/CamDavidsonPilon/Probabilistic-Programming-and-Bayesian-Methods-for-Hackers/issues/385  \n",
    "I followed the reply from the link to modify the variational bayes part of codes.  \n",
    "\n",
    "Now I am importing data set, fitting the model then generate trace and ppc.\n"
   ]
  },
  {
   "cell_type": "code",
   "execution_count": 4,
   "metadata": {},
   "outputs": [],
   "source": [
    "data = pd.read_csv('./data/data_sample.csv')"
   ]
  },
  {
   "cell_type": "code",
   "execution_count": 5,
   "metadata": {},
   "outputs": [],
   "source": [
    "# defining variables of need\n",
    "n_months = 12\n",
    "n_samples = 1000"
   ]
  },
  {
   "cell_type": "code",
   "execution_count": 6,
   "metadata": {},
   "outputs": [],
   "source": [
    "model = create_timeseries_death_model(overdoses=data['overdoses'].values,\n",
    "                                     deaths=data['deaths'].values)"
   ]
  },
  {
   "cell_type": "code",
   "execution_count": 8,
   "metadata": {},
   "outputs": [
    {
     "name": "stderr",
     "output_type": "stream",
     "text": [
      "Auto-assigning NUTS sampler...\n",
      "Initializing NUTS using advi...\n"
     ]
    },
    {
     "name": "stdout",
     "output_type": "stream",
     "text": [
      "Running variational fitting and generating trace...\n"
     ]
    },
    {
     "name": "stderr",
     "output_type": "stream",
     "text": [
      "Average Loss = 206.69:  16%|█▌        | 15747/100000 [00:11<00:59, 1420.31it/s] \n",
      "Convergence achieved at 15900\n",
      "Interrupted at 15,899 [15%]: Average Loss = 7,369.8\n",
      "Multiprocess sampling (2 chains in 2 jobs)\n",
      "NUTS: [p_d, w, N]\n",
      "Sampling 2 chains: 100%|██████████| 3000/3000 [01:04<00:00, 46.82draws/s] \n",
      "The chain reached the maximum tree depth. Increase max_treedepth, increase target_accept or reparameterize.\n",
      "The estimated number of effective samples is smaller than 200 for some parameters.\n",
      "  2%|▏         | 43/2000 [00:00<00:04, 417.79it/s]"
     ]
    },
    {
     "name": "stdout",
     "output_type": "stream",
     "text": [
      "Generate ppc...\n"
     ]
    },
    {
     "name": "stderr",
     "output_type": "stream",
     "text": [
      "100%|██████████| 2000/2000 [00:03<00:00, 509.25it/s]\n"
     ]
    }
   ],
   "source": [
    "random.seed( 30 )\n",
    "fit = generate_ppc_from_model(model)"
   ]
  },
  {
   "cell_type": "markdown",
   "metadata": {},
   "source": [
    "So it works here.\n",
    "\n",
    "But it does not work and giving me an error like this. \n",
    "\n",
    "\n",
    "\n",
    "Side question:\n",
    "Why do we have two x values for 'overdoses' and 'deaths'? \n",
    "Doesn't it matter?"
   ]
  },
  {
   "cell_type": "markdown",
   "metadata": {},
   "source": [
    "# 2. I am getting a different result.\n",
    "\n",
    "(put the ppc part after the time variation is added while I used MCMC and Mike used VB.)\n",
    "\n",
    "\n",
    "-todo:\n",
    "take push back \n",
    "back to commit of before \n",
    "make git ignore and put the env stuffs there"
   ]
  },
  {
   "cell_type": "code",
   "execution_count": null,
   "metadata": {},
   "outputs": [],
   "source": []
  }
 ],
 "metadata": {
  "kernelspec": {
   "display_name": "Python [conda env:root] *",
   "language": "python",
   "name": "conda-root-py"
  },
  "language_info": {
   "codemirror_mode": {
    "name": "ipython",
    "version": 3
   },
   "file_extension": ".py",
   "mimetype": "text/x-python",
   "name": "python",
   "nbconvert_exporter": "python",
   "pygments_lexer": "ipython3",
   "version": "3.7.4"
  }
 },
 "nbformat": 4,
 "nbformat_minor": 2
}
