{
 "cells": [
  {
   "cell_type": "code",
   "execution_count": 2,
   "metadata": {},
   "outputs": [],
   "source": [
    "from platform import python_version\n",
    "import numpy as np\n"
   ]
  },
  {
   "cell_type": "code",
   "execution_count": 8,
   "metadata": {},
   "outputs": [
    {
     "name": "stdout",
     "output_type": "stream",
     "text": [
      "Collecting pystan\n",
      "\u001b[?25l  Downloading https://files.pythonhosted.org/packages/66/ce/cacc6174b65d9e059725ccf8bb6b9653fb7174048a759de7fe639d9a7171/pystan-2.19.1.1-cp37-cp37m-macosx_10_6_intel.whl (39.1MB)\n",
      "\u001b[K     |████████████████████████████████| 39.1MB 25.1MB/s eta 0:00:01     |████████████████████▍           | 24.9MB 25.1MB/s eta 0:00:01\n",
      "\u001b[?25hRequirement already satisfied: numpy>=1.7 in /Users/hyeongcheolpark/anaconda3/lib/python3.7/site-packages (from pystan) (1.17.2)\n",
      "Requirement already satisfied: Cython!=0.25.1,>=0.22 in /Users/hyeongcheolpark/anaconda3/lib/python3.7/site-packages (from pystan) (0.29.13)\n",
      "Installing collected packages: pystan\n",
      "Successfully installed pystan-2.19.1.1\n",
      "Note: you may need to restart the kernel to use updated packages.\n"
     ]
    }
   ],
   "source": [
    "pip install pystan"
   ]
  },
  {
   "cell_type": "code",
   "execution_count": 9,
   "metadata": {},
   "outputs": [],
   "source": [
    "import pystan"
   ]
  },
  {
   "cell_type": "code",
   "execution_count": 12,
   "metadata": {},
   "outputs": [
    {
     "name": "stdout",
     "output_type": "stream",
     "text": [
      "3.7.4\n",
      "1.17.2\n",
      "2.19.1.1\n"
     ]
    }
   ],
   "source": [
    "print(python_version())\n",
    "print(np.__version__)\n",
    "print(pystan.__version__)"
   ]
  },
  {
   "cell_type": "code",
   "execution_count": null,
   "metadata": {},
   "outputs": [],
   "source": []
  }
 ],
 "metadata": {
  "kernelspec": {
   "display_name": "Python [conda env:root] *",
   "language": "python",
   "name": "conda-root-py"
  },
  "language_info": {
   "codemirror_mode": {
    "name": "ipython",
    "version": 3
   },
   "file_extension": ".py",
   "mimetype": "text/x-python",
   "name": "python",
   "nbconvert_exporter": "python",
   "pygments_lexer": "ipython3",
   "version": "3.7.4"
  }
 },
 "nbformat": 4,
 "nbformat_minor": 2
}
